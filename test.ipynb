{
 "cells": [
  {
   "cell_type": "code",
   "execution_count": 3,
   "metadata": {},
   "outputs": [],
   "source": [
    "from json import loads, dumps\n",
    "with open(\"lessons.json\", \"r\", encoding=\"utf-8\") as f:\n",
    "    data = loads(f.read())\n",
    "t = lambda m:list(zip(*m))\n",
    "classes = set()\n",
    "for r in data:\n",
    "    for el in r:\n",
    "        if el[:5] == \"Класс\":\n",
    "            classes = classes.union({class_.strip() for class_ in el[6:].split(\",\")})\n",
    "classes = tuple(classes)"
   ]
  },
  {
   "cell_type": "code",
   "execution_count": 4,
   "metadata": {},
   "outputs": [],
   "source": [
    "norm_label = {\"Предмет\": \"subject\", \"Класс\": \"class\", \"Учитель\": \"teacher\", \"Кабинет\": \"classroom\"}\n",
    "pd_data = []\n",
    "compare = lambda left,right,*args:all([left[arg]==right[arg]for arg in args])\n",
    "for info in data:\n",
    "    date = \"/\".join(info[0].replace(\".\", \"\").split()[1:])\n",
    "    start, end = [time.split(\":\") for time in info[1].split(\"-\")]\n",
    "    start = int(start[0])*60+int(start[1])\n",
    "    end = int(end[0])*60+int(end[1])\n",
    "    add = {\"date\": date, \"start\": start, \"end\": end}\n",
    "    add.update({value: None for value in norm_label.values()})\n",
    "    for inf in info[2:]:\n",
    "        label, _, value = inf.partition(\":\")\n",
    "        add[norm_label[label]] = value.strip()\n",
    "    add_list = add[\"class\"].split(\",\")\n",
    "    for class_add in add_list:\n",
    "        add[\"class\"] = class_add\n",
    "        overlap = [info for info in pd_data if compare(info, add, \"class\", \"subject\", \"teacher\", \"classroom\", \"start\", \"end\", \"date\")]\n",
    "        if not overlap:\n",
    "            pd_data.append(add.copy())\n",
    "# pd_data[:10]"
   ]
  },
  {
   "cell_type": "code",
   "execution_count": 5,
   "metadata": {},
   "outputs": [],
   "source": [
    "with open(\"lessons_pd.json\", \"w\", encoding=\"utf-8\") as f:\n",
    "    f.write(dumps(pd_data))"
   ]
  },
  {
   "cell_type": "code",
   "execution_count": null,
   "metadata": {},
   "outputs": [],
   "source": []
  }
 ],
 "metadata": {
  "kernelspec": {
   "display_name": "Python 3",
   "language": "python",
   "name": "python3"
  },
  "language_info": {
   "codemirror_mode": {
    "name": "ipython",
    "version": 3
   },
   "file_extension": ".py",
   "mimetype": "text/x-python",
   "name": "python",
   "nbconvert_exporter": "python",
   "pygments_lexer": "ipython3",
   "version": "3.11.0"
  },
  "orig_nbformat": 4,
  "vscode": {
   "interpreter": {
    "hash": "5375c6fca34c5f00efc2a1fb12328b4af153b74c7751f4a701371fb63dcb16d8"
   }
  }
 },
 "nbformat": 4,
 "nbformat_minor": 2
}
