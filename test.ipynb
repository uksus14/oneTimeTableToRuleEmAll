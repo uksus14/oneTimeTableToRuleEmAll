{
 "cells": [
  {
   "cell_type": "code",
   "execution_count": null,
   "metadata": {},
   "outputs": [
    {
     "ename": "",
     "evalue": "",
     "output_type": "error",
     "traceback": [
      "\u001b[1;31mRunning cells with 'c:\\Users\\asus\\AppData\\Local\\Programs\\Python\\Python39\\python.exe' requires ipykernel package.\n",
      "\u001b[1;31mRun the following command to install 'ipykernel' into the Python environment. \n",
      "\u001b[1;31mCommand: 'c:/Users/asus/AppData/Local/Programs/Python/Python39/python.exe -m pip install ipykernel -U --user --force-reinstall'"
     ]
    }
   ],
   "source": [
    "from json import loads, dumps\n",
    "with open(\"lessons.json\", \"r\", encoding=\"utf-8\") as f:\n",
    "    data = loads(f.read())\n",
    "t = lambda m:list(zip(*m))\n",
    "classes = set()\n",
    "for r in data:\n",
    "    for el in r:\n",
    "        if el[:5] == \"Класс\":\n",
    "            classes = classes.union({class_.strip() for class_ in el[6:].split(\",\")})\n",
    "classes = tuple(classes)"
   ]
  },
  {
   "cell_type": "code",
   "execution_count": null,
   "metadata": {},
   "outputs": [
    {
     "ename": "",
     "evalue": "",
     "output_type": "error",
     "traceback": [
      "\u001b[1;31mRunning cells with 'c:\\Users\\asus\\AppData\\Local\\Programs\\Python\\Python39\\python.exe' requires ipykernel package.\n",
      "\u001b[1;31mRun the following command to install 'ipykernel' into the Python environment. \n",
      "\u001b[1;31mCommand: 'c:/Users/asus/AppData/Local/Programs/Python/Python39/python.exe -m pip install ipykernel -U --user --force-reinstall'"
     ]
    }
   ],
   "source": [
    "norm_label = {\"Предмет\": \"subject\", \"Класс\": \"class\", \"Учитель\": \"teacher\", \"Кабинет\": \"classroom\"}\n",
    "pd_data = []\n",
    "compare = lambda left,right,*args:all([left[arg]==right[arg]for arg in args])\n",
    "for info in data:\n",
    "    date = \"/\".join(info[0].replace(\".\", \"\").split()[1:])\n",
    "    start, end = [time.split(\":\") for time in info[1].split(\"-\")]\n",
    "    start = int(start[0])*60+int(start[1])\n",
    "    end = int(end[0])*60+int(end[1])\n",
    "    add = {\"date\": date, \"start\": start, \"end\": end}\n",
    "    add.update({value: None for value in norm_label.values()})\n",
    "    for inf in info[2:]:\n",
    "        label, _, value = inf.partition(\":\")\n",
    "        add[norm_label[label]] = value.strip()\n",
    "    add_list = add[\"class\"].split(\",\")\n",
    "    for class_add in add_list:\n",
    "        add[\"class\"] = class_add\n",
    "        overlap = [info for info in pd_data if compare(info, add, \"class\", \"subject\", \"teacher\", \"classroom\", \"start\", \"end\", \"date\")]\n",
    "        if not overlap:\n",
    "            pd_data.append(add.copy())\n",
    "# pd_data[:10]"
   ]
  },
  {
   "cell_type": "code",
   "execution_count": null,
   "metadata": {},
   "outputs": [
    {
     "ename": "",
     "evalue": "",
     "output_type": "error",
     "traceback": [
      "\u001b[1;31mRunning cells with 'c:\\Users\\asus\\AppData\\Local\\Programs\\Python\\Python39\\python.exe' requires ipykernel package.\n",
      "\u001b[1;31mRun the following command to install 'ipykernel' into the Python environment. \n",
      "\u001b[1;31mCommand: 'c:/Users/asus/AppData/Local/Programs/Python/Python39/python.exe -m pip install ipykernel -U --user --force-reinstall'"
     ]
    }
   ],
   "source": [
    "with open(\"lessons_pd.json\", \"w\", encoding=\"utf-8\") as f:\n",
    "    f.write(dumps(pd_data))"
   ]
  },
  {
   "cell_type": "code",
   "execution_count": null,
   "metadata": {},
   "outputs": [],
   "source": []
  }
 ],
 "metadata": {
  "kernelspec": {
   "display_name": "Python 3.9.4 64-bit",
   "language": "python",
   "name": "python3"
  },
  "language_info": {
   "codemirror_mode": {
    "name": "ipython",
    "version": 3
   },
   "file_extension": ".py",
   "mimetype": "text/x-python",
   "name": "python",
   "nbconvert_exporter": "python",
   "pygments_lexer": "ipython3",
   "version": "3.9.4 (tags/v3.9.4:1f2e308, Apr  6 2021, 13:40:21) [MSC v.1928 64 bit (AMD64)]"
  },
  "orig_nbformat": 4,
  "vscode": {
   "interpreter": {
    "hash": "b667cebad148e7b094a58ee81f940c685de1dd70a003a9ccdca4a5792431bee5"
   }
  }
 },
 "nbformat": 4,
 "nbformat_minor": 2
}
