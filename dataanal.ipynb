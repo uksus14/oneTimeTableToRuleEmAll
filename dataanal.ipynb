{
 "cells": [
  {
   "cell_type": "code",
   "execution_count": 104,
   "metadata": {},
   "outputs": [
    {
     "data": {
      "text/html": [
       "<div>\n",
       "<style scoped>\n",
       "    .dataframe tbody tr th:only-of-type {\n",
       "        vertical-align: middle;\n",
       "    }\n",
       "\n",
       "    .dataframe tbody tr th {\n",
       "        vertical-align: top;\n",
       "    }\n",
       "\n",
       "    .dataframe thead th {\n",
       "        text-align: right;\n",
       "    }\n",
       "</style>\n",
       "<table border=\"1\" class=\"dataframe\">\n",
       "  <thead>\n",
       "    <tr style=\"text-align: right;\">\n",
       "      <th></th>\n",
       "      <th>date</th>\n",
       "      <th>start</th>\n",
       "      <th>end</th>\n",
       "      <th>subject</th>\n",
       "      <th>class</th>\n",
       "      <th>teacher</th>\n",
       "      <th>classroom</th>\n",
       "    </tr>\n",
       "  </thead>\n",
       "  <tbody>\n",
       "    <tr>\n",
       "      <th>0</th>\n",
       "      <td>28/11</td>\n",
       "      <td>570</td>\n",
       "      <td>650</td>\n",
       "      <td>Информатика</td>\n",
       "      <td>MIX-2-22</td>\n",
       "      <td>Апел Сарыбаева</td>\n",
       "      <td>LAB3</td>\n",
       "    </tr>\n",
       "    <tr>\n",
       "      <th>1</th>\n",
       "      <td>28/11</td>\n",
       "      <td>700</td>\n",
       "      <td>780</td>\n",
       "      <td>Математика</td>\n",
       "      <td>MIX-2-22</td>\n",
       "      <td>Ольга Беляева</td>\n",
       "      <td>C9</td>\n",
       "    </tr>\n",
       "    <tr>\n",
       "      <th>2</th>\n",
       "      <td>28/11</td>\n",
       "      <td>790</td>\n",
       "      <td>870</td>\n",
       "      <td>Основы креативного и критического мышления</td>\n",
       "      <td>MIX-2-22</td>\n",
       "      <td>Анастасия Шабалина</td>\n",
       "      <td>C9</td>\n",
       "    </tr>\n",
       "    <tr>\n",
       "      <th>3</th>\n",
       "      <td>28/11</td>\n",
       "      <td>880</td>\n",
       "      <td>960</td>\n",
       "      <td>Физика</td>\n",
       "      <td>MIX-2-22</td>\n",
       "      <td>Аманбек Чечейбаев</td>\n",
       "      <td>C9</td>\n",
       "    </tr>\n",
       "    <tr>\n",
       "      <th>4</th>\n",
       "      <td>28/11</td>\n",
       "      <td>970</td>\n",
       "      <td>1050</td>\n",
       "      <td>Дополнительный курс по математике</td>\n",
       "      <td>SEST-1-22</td>\n",
       "      <td>Жетиген Бакыт у.</td>\n",
       "      <td>C11</td>\n",
       "    </tr>\n",
       "  </tbody>\n",
       "</table>\n",
       "</div>"
      ],
      "text/plain": [
       "    date  start   end                                     subject      class  \\\n",
       "0  28/11    570   650                                 Информатика   MIX-2-22   \n",
       "1  28/11    700   780                                  Математика   MIX-2-22   \n",
       "2  28/11    790   870  Основы креативного и критического мышления   MIX-2-22   \n",
       "3  28/11    880   960                                      Физика   MIX-2-22   \n",
       "4  28/11    970  1050           Дополнительный курс по математике  SEST-1-22   \n",
       "\n",
       "              teacher classroom  \n",
       "0      Апел Сарыбаева      LAB3  \n",
       "1       Ольга Беляева        C9  \n",
       "2  Анастасия Шабалина        C9  \n",
       "3   Аманбек Чечейбаев        C9  \n",
       "4    Жетиген Бакыт у.       C11  "
      ]
     },
     "execution_count": 104,
     "metadata": {},
     "output_type": "execute_result"
    }
   ],
   "source": [
    "import pandas as pd\n",
    "import matplotlib.pyplot as plt\n",
    "import numpy as np\n",
    "df = pd.read_json(\"lessons_pd.json\")\n",
    "df.head(5)"
   ]
  },
  {
   "cell_type": "code",
   "execution_count": 119,
   "metadata": {},
   "outputs": [],
   "source": [
    "import datetime\n",
    "all_cabs = set(df[\"classroom\"].unique())\n",
    "cabs = {cab for cab in all_cabs if not cab.isdigit() and cab[0] != \"G\"}\n",
    "def time(hours, minutes):\n",
    "    return hours*60+minutes\n",
    "def to_time(entry):\n",
    "    return entry[\"start\"] =\n",
    "def then(df, date, time):\n",
    "    return df[(df[\"date\"] == date) & (df[\"start\"]<=time) & (df[\"end\"]>=time)]\n",
    "def now(df):\n",
    "    today = datetime.datetime.now()\n",
    "    return then(df, f\"{today.day}/{today.month}\", time(today.hour, today.minute))\n",
    "def where_will(df, teacher, date):\n",
    "    return df[df[\"teacher\"] == teacher][df[\"date\"] == date]\n",
    "def where(df, teacher):\n",
    "    today = datetime.datetime.now()\n",
    "    return where_will(df, teacher, f\"{today.day}/{today.month}\")"
   ]
  },
  {
   "cell_type": "code",
   "execution_count": 125,
   "metadata": {},
   "outputs": [
    {
     "data": {
      "text/plain": [
       "{'C8', 'CH'}"
      ]
     },
     "execution_count": 125,
     "metadata": {},
     "output_type": "execute_result"
    }
   ],
   "source": [
    "cabs - set(now(df)[\"classroom\"])"
   ]
  }
 ],
 "metadata": {
  "kernelspec": {
   "display_name": "Python 3.11.0 64-bit",
   "language": "python",
   "name": "python3"
  },
  "language_info": {
   "codemirror_mode": {
    "name": "ipython",
    "version": 3
   },
   "file_extension": ".py",
   "mimetype": "text/x-python",
   "name": "python",
   "nbconvert_exporter": "python",
   "pygments_lexer": "ipython3",
   "version": "3.11.0"
  },
  "orig_nbformat": 4,
  "vscode": {
   "interpreter": {
    "hash": "0cb1f4c61e00a4630e095d7db81d372b37b525937944a6ef204cd75fca061c20"
   }
  }
 },
 "nbformat": 4,
 "nbformat_minor": 2
}
